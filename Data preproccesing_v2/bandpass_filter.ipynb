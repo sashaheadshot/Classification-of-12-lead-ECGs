{
 "cells": [
  {
   "cell_type": "code",
   "execution_count": 1,
   "id": "841a50a9",
   "metadata": {},
   "outputs": [],
   "source": [
    "import pandas as pd\n",
    "import numpy as np\n",
    "import matplotlib.pyplot as plt\n",
    "import scipy.io\n",
    "import os\n",
    "import neurokit2 as nk\n",
    "import pickle\n",
    "from concurrent.futures import ThreadPoolExecutor\n",
    "from scipy.signal import butter, lfilter\n",
    "from tqdm import tqdm"
   ]
  },
  {
   "cell_type": "code",
   "execution_count": null,
   "id": "31859391-331f-4646-b07d-93cd256a888f",
   "metadata": {},
   "outputs": [],
   "source": [
    "from data_loader_mat import load_data\n",
    "\n",
    "main_directory = r'E:\\Coding\\Jupyter_files\\Classification-of-12-lead-ECGs-full-data\\Data\\reshaped_data'\n",
    "loaded_data = load_data(main_directory)"
   ]
  },
  {
   "cell_type": "code",
   "execution_count": 3,
   "id": "ebf40290-984c-4b89-a3b5-12421cdc8a4a",
   "metadata": {},
   "outputs": [],
   "source": [
    "def bandpass_filter(signal, lowcut, highcut, sampling_rate, order=2):\n",
    "    nyquist = 0.5 * sampling_rate\n",
    "    low = lowcut / nyquist\n",
    "    high = highcut / nyquist\n",
    "    b, a = butter(order, [low, high], btype='band')\n",
    "    y = lfilter(b, a, signal)\n",
    "    return y"
   ]
  },
  {
   "cell_type": "code",
   "execution_count": null,
   "id": "eff4e89f-5888-4475-b4e8-4a7072c9ddbd",
   "metadata": {
    "scrolled": true
   },
   "outputs": [],
   "source": [
    "# Progress bar setup:\n",
    "\n",
    "total_files = len(loaded_data)\n",
    "progress_bar = tqdm(total = total_files, desc = 'Filtering is in process...')\n",
    "\n",
    "\n",
    "# Bandpass filter parameters:\n",
    "\n",
    "lowcut = 0.5\n",
    "highcut = 24.0\n",
    "sampling_rate = 500\n",
    "\n",
    "filtered_data = {}\n",
    "\n",
    "# Applying Bandpass filter:\n",
    "\n",
    "for filepath, data in loaded_data.items():\n",
    "    if filepath.endswith('.mat'):\n",
    "        ecg_signal = data['val'].flatten()\n",
    "        filtered_signal = bandpass_filter(ecg_signal,lowcut,highcut,sampling_rate)\n",
    "        filtered_data[filepath] = filtered_signal\n",
    "    progress_bar.update(1)\n",
    "progress_bar.close()"
   ]
  },
  {
   "cell_type": "code",
   "execution_count": null,
   "id": "f065fbcc-982e-441c-a056-dd05a9337a46",
   "metadata": {},
   "outputs": [],
   "source": [
    "#TEST BANDPASS FILTER\n",
    "\n",
    "# Progress bar setup\n",
    "total_files = len(loaded_data)\n",
    "progress_bar = tqdm(total=total_files, desc='Filtering is in process...')\n",
    "\n",
    "# Bandpass filter parameters\n",
    "lowcut = 0.5\n",
    "highcut = 24.0\n",
    "sampling_rate = 500\n",
    "\n",
    "filtered_data = {}\n",
    "\n",
    "# Applying Bandpass filter\n",
    "for filepath, data in loaded_data.items():\n",
    "    if 'val' in data:\n",
    "        ecg_signal = data['val'].flatten()  # Flatten the original signal\n",
    "        filtered_signal = bandpass_filter(ecg_signal, lowcut, highcut, sampling_rate)\n",
    "        \n",
    "        # Preserve the 'val' key and shape (12, 5000)\n",
    "        filtered_data[filepath] = {'val': filtered_signal.reshape(12, 5000)}  # Reshape to original shape\n",
    "        \n",
    "    progress_bar.update(1)\n",
    "\n",
    "progress_bar.close()"
   ]
  }
 ],
 "metadata": {
  "kernelspec": {
   "display_name": "Python 3 (ipykernel)",
   "language": "python",
   "name": "python3"
  },
  "language_info": {
   "codemirror_mode": {
    "name": "ipython",
    "version": 3
   },
   "file_extension": ".py",
   "mimetype": "text/x-python",
   "name": "python",
   "nbconvert_exporter": "python",
   "pygments_lexer": "ipython3",
   "version": "3.11.7"
  }
 },
 "nbformat": 4,
 "nbformat_minor": 5
}
