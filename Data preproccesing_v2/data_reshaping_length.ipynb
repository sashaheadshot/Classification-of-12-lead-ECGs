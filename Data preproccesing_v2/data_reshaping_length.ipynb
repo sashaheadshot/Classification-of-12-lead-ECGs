{
 "cells": [
  {
   "cell_type": "code",
   "execution_count": 1,
   "id": "0dd84838-1b92-41f4-80a9-773c970a52fc",
   "metadata": {},
   "outputs": [],
   "source": [
    "import os\n",
    "import scipy.io as sio\n",
    "import numpy as np\n",
    "from tqdm import tqdm"
   ]
  },
  {
   "cell_type": "code",
   "execution_count": null,
   "id": "18658769-a407-4044-8549-1cc6604608a4",
   "metadata": {},
   "outputs": [],
   "source": [
    "from data_loader_test import load_data\n",
    "main_directory = r'E:\\Coding\\Jupyter_files\\Classification-of-12-lead-ECGs-full-data\\Data\\resampled_data'\n",
    "loaded_data = load_data(main_directory)"
   ]
  },
  {
   "cell_type": "code",
   "execution_count": null,
   "id": "42a7e11c-bd9e-4fc7-8289-d973cca5b3f5",
   "metadata": {},
   "outputs": [],
   "source": [
    "data_directory = 'E:\\\\Coding\\\\Jupyter_files\\\\Classification-of-12-lead-ECGs-full-data\\\\Data\\\\resampled_data'\n",
    "filtered_data_directory = 'E:\\\\Coding\\\\Jupyter_files\\\\Classification-of-12-lead-ECGs-full-data\\\\Data\\\\filtered_data'\n",
    "\n",
    "\n",
    "os.makedirs(filtered_data_directory, exist_ok=True)\n",
    "pbar = tqdm(desc=\"Processing Files\", unit=\" files\")\n",
    "\n",
    "\n",
    "def resize_signal(signal):\n",
    "    if signal.shape[1] > 5000:\n",
    "        resized_signal = signal[:, :5000]\n",
    "    elif signal.shape[1] < 5000:\n",
    "        pad_width = 5000 - signal.shape[1]\n",
    "        resized_signal = np.pad(signal, ((0, 0), (0, pad_width)), mode='constant')\n",
    "    else:\n",
    "        resized_signal = signal\n",
    "    \n",
    "    return resized_signal\n",
    "\n",
    "\n",
    "for file in os.listdir(data_directory):\n",
    "    if file.endswith('.mat'):\n",
    "        try:\n",
    "            mat_path = os.path.join(data_directory, file)\n",
    "            mat_data = sio.loadmat(mat_path)\n",
    "            if 'val' in mat_data:\n",
    "                resized_val = resize_signal(mat_data['val'])\n",
    "                mat_data['val'] = resized_val\n",
    "                filtered_mat_path = os.path.join(filtered_data_directory, file)\n",
    "                sio.savemat(filtered_mat_path, mat_data)\n",
    "\n",
    "        except Exception as e:\n",
    "            print(f\"Error processing {file}: {str(e)}\")\n",
    "            pass  \n",
    "\n",
    "\n",
    "        pbar.update(1)\n",
    "pbar.close()\n",
    "\n",
    "print(f\"Files saved to {filtered_data_directory}\")\n"
   ]
  }
 ],
 "metadata": {
  "kernelspec": {
   "display_name": "Python 3 (ipykernel)",
   "language": "python",
   "name": "python3"
  },
  "language_info": {
   "codemirror_mode": {
    "name": "ipython",
    "version": 3
   },
   "file_extension": ".py",
   "mimetype": "text/x-python",
   "name": "python",
   "nbconvert_exporter": "python",
   "pygments_lexer": "ipython3",
   "version": "3.11.7"
  }
 },
 "nbformat": 4,
 "nbformat_minor": 5
}
