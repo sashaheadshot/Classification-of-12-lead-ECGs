{
 "cells": [
  {
   "cell_type": "code",
   "execution_count": 1,
   "id": "f6e71f1a-c739-4e45-bd5b-f6460167cbad",
   "metadata": {},
   "outputs": [],
   "source": [
    "import os\n",
    "import csv\n",
    "from tqdm import tqdm"
   ]
  },
  {
   "cell_type": "code",
   "execution_count": 4,
   "id": "ee236e40-2bb2-48d3-93e0-9a997d3fe198",
   "metadata": {},
   "outputs": [],
   "source": [
    "main_directory = r'E:\\Coding\\Jupyter_files\\Classification-of-12-lead-ECGs-full-data\\Data\\Selected_data'"
   ]
  },
  {
   "cell_type": "code",
   "execution_count": 3,
   "id": "badcdd0b-4bd3-47a7-aeab-ca3ec8962ddf",
   "metadata": {},
   "outputs": [],
   "source": [
    "class_mapping = {\n",
    "    '426783006': 0,  # Sinus Rhythm\n",
    "    '427084000': 1,  # Sinus Tachycardia\n",
    "    '426177001': 2,  # Sinus Bradycardia\n",
    "    '427172004': 3,  # PVC\n",
    "    '270492004': 4,  # 1st Degree AV block\n",
    "    '164865005': 5,  # Myocardial infarction\n",
    "    '55930002': 6    # ST changes\n",
    "}"
   ]
  },
  {
   "cell_type": "code",
   "execution_count": null,
   "id": "5843584c-2117-443f-aa63-92ac6dced0e2",
   "metadata": {},
   "outputs": [],
   "source": [
    "class_mapping = {\n",
    "    '426783006': 0,  # Sinus Rhythm\n",
    "    '427084000': 1,  # Sinus Tachycardia\n",
    "    '426177001': 2,  # Sinus Bradycardia\n",
    "    '427172004': 3,  # PVC\n",
    "    '270492004': 4,  # 1st Degree AV block\n",
    "    '164865005': 5,  # Myocardial infarction\n",
    "    '55930002': 6    # ST changes\n",
    "}\n",
    "\n",
    "\n",
    "numeric_labels_dict = {}\n",
    "total_files = sum(len(files) for _, _, files in os.walk(main_directory) if any(f.endswith('.hea') for f in files))\n",
    "progress_bar = tqdm(total=total_files, desc=\"Processing .hea Files\")\n",
    "\n",
    "\n",
    "for root, dirs, files in os.walk(main_directory):\n",
    "    for filename in files:\n",
    "        if filename.endswith('.hea'):\n",
    "            try:\n",
    "                with open(os.path.join(root, filename), 'r') as f:\n",
    "                    header_data = f.readlines()\n",
    "                \n",
    "                disease_numbers = []\n",
    "                for line in header_data:\n",
    "                    if line.startswith('# Dx'):\n",
    "                        disease_numbers = line.split(': ')[1].strip().split(',')\n",
    "                        break\n",
    "\n",
    "                labels = []\n",
    "                for disease_number in disease_numbers:\n",
    "                    if disease_number.strip() in class_mapping:\n",
    "                        labels.append(class_mapping[disease_number.strip()])\n",
    "                \n",
    "                if labels:\n",
    "                    numeric_labels_dict[filename.replace('.hea', '')] = labels\n",
    "            \n",
    "            except Exception as e:\n",
    "                print(f\"Error processing file {filename}: {e}\")\n",
    "\n",
    "        progress_bar.update(1)\n",
    "\n",
    "progress_bar.close()\n",
    "\n",
    "\n",
    "numeric_output_csv_path = r'E:\\Coding\\Jupyter_files\\Classification-of-12-lead-ECGs-full-data\\Datanumeric_labels_test.csv'\n",
    "with open(numeric_output_csv_path, 'w', newline='') as csvfile:\n",
    "    writer = csv.writer(csvfile)\n",
    "    writer.writerow(['Filename', 'NumericLabel'])  # Write the header\n",
    "    for filename, numeric_labels in numeric_labels_dict.items():\n",
    "        writer.writerow([filename, ', '.join(map(str, numeric_labels))])\n",
    "\n",
    "print(f\"Numeric labels saved to {numeric_output_csv_path}\")"
   ]
  },
  {
   "cell_type": "code",
   "execution_count": null,
   "id": "155183d8-70b5-4ad3-8acf-efc333506064",
   "metadata": {},
   "outputs": [],
   "source": [
    "import csv\n",
    "\n",
    "csv_file_path = r'E:\\Coding\\Jupyter_files\\Classification-of-12-lead-ECGs-full-data\\numeric_labels_test.csv'\n",
    "\n",
    "filename_count = 0\n",
    "\n",
    "with open(csv_file_path, 'r', newline='') as csvfile:\n",
    "    reader = csv.DictReader(csvfile)\n",
    "    for row in reader:\n",
    "        if row['Filename']:\n",
    "            filename_count += 1\n",
    "\n",
    "print(f\"Total number of 'Filename' entries: {filename_count}\")\n"
   ]
  }
 ],
 "metadata": {
  "kernelspec": {
   "display_name": "Python 3 (ipykernel)",
   "language": "python",
   "name": "python3"
  },
  "language_info": {
   "codemirror_mode": {
    "name": "ipython",
    "version": 3
   },
   "file_extension": ".py",
   "mimetype": "text/x-python",
   "name": "python",
   "nbconvert_exporter": "python",
   "pygments_lexer": "ipython3",
   "version": "3.11.7"
  }
 },
 "nbformat": 4,
 "nbformat_minor": 5
}
