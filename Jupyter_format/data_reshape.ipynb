{
 "cells": [
  {
   "cell_type": "code",
   "execution_count": 19,
   "id": "863f92ee",
   "metadata": {},
   "outputs": [],
   "source": [
    "import pandas as pd\n",
    "import numpy as np\n",
    "import os\n",
    "from tqdm import tqdm\n",
    "import pickle\n",
    "from scipy.signal import resample"
   ]
  },
  {
   "cell_type": "code",
   "execution_count": 2,
   "id": "e7778c66",
   "metadata": {},
   "outputs": [],
   "source": [
    "with open ('saved_data.pkl','rb') as f:\n",
    "    loaded_data = pickle.load(f)"
   ]
  },
  {
   "cell_type": "code",
   "execution_count": null,
   "id": "a0b6f9fb",
   "metadata": {},
   "outputs": [],
   "source": [
    "desired_sampling_rate = 500\n",
    "\n",
    "\n",
    "resampled_data = {}\n",
    "\n",
    "def get_sampling_rate(header_file):\n",
    "    with open(header_file, 'r') as file:\n",
    "        for line in file:\n",
    "            if line.startswith('#') or line.strip() == '':\n",
    "                continue\n",
    "            parts = line.split()\n",
    "            if len(parts) > 2 and parts[2].isdigit():\n",
    "                return int(parts[2])\n",
    "    return None\n",
    "\n",
    "\n",
    "for filename, data in loaded_data.items():\n",
    "    if filename.endswith('.mat'):\n",
    "        header_file = filename.replace('.mat', '.hea')\n",
    "        \n",
    "        sampling_rate = get_sampling_rate(header_file)\n",
    "        \n",
    "        if isinstance(data, dict) and 'val' in data:\n",
    "            signal_data = data['val']\n",
    "        \n",
    "            num_points = int(signal_data.shape[1] * desired_sampling_rate / sampling_rate)\n",
    "            resampled_signal = resample(signal_data, num_points, axis=1)\n",
    "            resampled_data[filename] = {'val': resampled_signal}\n",
    "\n",
    "\n",
    "for filename, data in resampled_data.items():\n",
    "    signal = data['val']\n",
    "    length_seconds = signal.shape[1] / desired_sampling_rate\n",
    "    print(f\"File: {filename}\")\n",
    "    print(f\"Length of Signal: {length_seconds} seconds\")\n",
    "    print(f\"Sampling Rate: {desired_sampling_rate} Hz\\n\")"
   ]
  },
  {
   "cell_type": "code",
   "execution_count": 11,
   "id": "d8f1baf7",
   "metadata": {},
   "outputs": [],
   "source": [
    "with open ('saved_resampled_data.pkl', 'wb')as f:\n",
    "    pickle.dump(resampled_data,f)"
   ]
  },
  {
   "cell_type": "code",
   "execution_count": 15,
   "id": "1176c20f",
   "metadata": {},
   "outputs": [],
   "source": [
    "desired_length_seconds = 10\n",
    "\n",
    "processed_data = {}\n",
    "\n",
    "# Function to adjust signal length\n",
    "def adjust_signal_length(signal, desired_length_samples):\n",
    "    current_length_samples = signal.shape[1]\n",
    "    if current_length_samples > desired_length_samples:\n",
    "        # Trim the signal if it's longer than desired length\n",
    "        processed_signal = signal[:, :desired_length_samples]\n",
    "    else:\n",
    "        # Pad the signal with zeros if it's shorter than desired length\n",
    "        num_zeros_to_pad = desired_length_samples - current_length_samples\n",
    "        processed_signal = np.pad(signal, ((0, 0), (0, num_zeros_to_pad)), mode='constant')\n",
    "    return processed_signal\n",
    "\n",
    "\n",
    "for filename, signal_data in resampled_data.items():\n",
    "    desired_length_samples = desired_length_seconds * desired_sampling_rate\n",
    "    processed_signal = adjust_signal_length(signal_data['val'], desired_length_samples)\n",
    "    processed_data[filename] = {'val': processed_signal}"
   ]
  },
  {
   "cell_type": "code",
   "execution_count": null,
   "id": "ac31fc2d",
   "metadata": {},
   "outputs": [],
   "source": [
    "for filename, data in processed_data.items():\n",
    "    signal = data['val']\n",
    "    length_seconds = signal.shape[1] / desired_sampling_rate\n",
    "    print(f\"File: {filename}\")\n",
    "    print(f\"Length of Signal: {length_seconds} seconds\")\n",
    "    print(f\"Sampling Rate: {desired_sampling_rate} Hz\\n\")"
   ]
  },
  {
   "cell_type": "code",
   "execution_count": 17,
   "id": "502ee743",
   "metadata": {},
   "outputs": [],
   "source": [
    "with open ('saved_reshaped_data.pkl', 'wb')as f:\n",
    "    pickle.dump(processed_data,f)"
   ]
  }
 ],
 "metadata": {
  "kernelspec": {
   "display_name": "Python 3 (ipykernel)",
   "language": "python",
   "name": "python3"
  },
  "language_info": {
   "codemirror_mode": {
    "name": "ipython",
    "version": 3
   },
   "file_extension": ".py",
   "mimetype": "text/x-python",
   "name": "python",
   "nbconvert_exporter": "python",
   "pygments_lexer": "ipython3",
   "version": "3.11.5"
  }
 },
 "nbformat": 4,
 "nbformat_minor": 5
}
