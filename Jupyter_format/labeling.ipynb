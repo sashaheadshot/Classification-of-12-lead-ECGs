{
 "cells": [
  {
   "cell_type": "code",
   "execution_count": 1,
   "id": "7d9c5d16",
   "metadata": {},
   "outputs": [],
   "source": [
    "import os\n",
    "import csv\n",
    "from tqdm import tqdm"
   ]
  },
  {
   "cell_type": "code",
   "execution_count": 34,
   "id": "cbed1aeb",
   "metadata": {},
   "outputs": [
    {
     "name": "stdout",
     "output_type": "stream",
     "text": [
      "Labels saved to C:\\Users\\Alex\\Downloads\\datasets\\labels_multiple_classes.csv\n"
     ]
    }
   ],
   "source": [
    "labels_dict = {}\n",
    "\n",
    "for root, dirs, files in os.walk(main_directory):\n",
    "    for filename in files:\n",
    "        if filename.endswith('.hea'):\n",
    "            try:\n",
    "                with open(os.path.join(root, filename), 'r') as f:\n",
    "                    header_data = f.readlines()\n",
    "                \n",
    "                disease_numbers = []\n",
    "                for line in header_data:\n",
    "                    if line.startswith('# Dx'):\n",
    "                        disease_numbers = line.split(': ')[1].strip().split(',')  # Assuming multiple disease numbers separated by comma\n",
    "                        break\n",
    "\n",
    "                # Map the disease numbers to class labels\n",
    "                labels = [class_mapping[disease_number.strip()] for disease_number in disease_numbers if disease_number.strip() in class_mapping]\n",
    "                \n",
    "                if labels:\n",
    "                    labels_dict[filename.replace('.hea', '')] = labels\n",
    "            except Exception as e:\n",
    "                print(f\"Error processing file {filename}: {e}\")\n",
    "\n",
    "output_csv_path = 'C:\\\\Users\\\\Alex\\\\Downloads\\\\datasets\\\\labels_multiple_classes.csv'\n",
    "\n",
    "with open(output_csv_path, 'w', newline='') as csvfile:\n",
    "    writer = csv.writer(csvfile)\n",
    "    writer.writerow(['Filename', 'Labels'])  # Write the header\n",
    "    for filename, labels in labels_dict.items():\n",
    "        writer.writerow([filename, ', '.join(labels)])\n",
    "\n",
    "print(f\"Labels saved to {output_csv_path}\")"
   ]
  },
  {
   "cell_type": "code",
   "execution_count": null,
   "id": "65709408",
   "metadata": {},
   "outputs": [],
   "source": []
  }
 ],
 "metadata": {
  "kernelspec": {
   "display_name": "Python 3 (ipykernel)",
   "language": "python",
   "name": "python3"
  },
  "language_info": {
   "codemirror_mode": {
    "name": "ipython",
    "version": 3
   },
   "file_extension": ".py",
   "mimetype": "text/x-python",
   "name": "python",
   "nbconvert_exporter": "python",
   "pygments_lexer": "ipython3",
   "version": "3.11.5"
  }
 },
 "nbformat": 4,
 "nbformat_minor": 5
}
