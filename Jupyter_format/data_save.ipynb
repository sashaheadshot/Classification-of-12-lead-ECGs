{
 "cells": [
  {
   "cell_type": "code",
   "execution_count": 6,
   "id": "a963cbfe",
   "metadata": {},
   "outputs": [],
   "source": [
    "import scipy.io\n",
    "import os\n",
    "import pickle\n",
    "from tqdm import tqdm"
   ]
  },
  {
   "cell_type": "code",
   "execution_count": 2,
   "id": "56036cca",
   "metadata": {},
   "outputs": [
    {
     "name": "stderr",
     "output_type": "stream",
     "text": [
      "Data is loading...: 100%|██████████| 41370/41370 [00:14<00:00, 2935.26it/s]\n"
     ]
    }
   ],
   "source": [
    "main_directory = r'C:\\Users\\Alex\\Downloads\\datasets\\training\\data'\n",
    "total_files = sum(len(files) for _, _, files in os.walk(main_directory))\n",
    "progress_bar = tqdm(total = total_files, desc = \"Data is loading...\")\n",
    "loaded_data = {}\n",
    "\n",
    "for root, dirs, files in os.walk(main_directory):\n",
    "    for filename in files:\n",
    "        if filename.endswith('.mat') or filename.endswith('.hea'):\n",
    "            file_path = os.path.join(root, filename)\n",
    "            if filename.endswith('.mat'):\n",
    "                data = scipy.io.loadmat(file_path)\n",
    "            elif filename.endswith('.hea'):\n",
    "                with open(file_path, 'r') as f:\n",
    "                    data = f.read()\n",
    "            loaded_data[file_path] = data\n",
    "        progress_bar.update(1)\n",
    "progress_bar.close()"
   ]
  },
  {
   "cell_type": "code",
   "execution_count": 7,
   "id": "0251f1f9",
   "metadata": {},
   "outputs": [],
   "source": [
    "with open ('saved_data.pkl', 'wb')as f:\n",
    "    pickle.dump(loaded_data,f)"
   ]
  }
 ],
 "metadata": {
  "kernelspec": {
   "display_name": "Python 3 (ipykernel)",
   "language": "python",
   "name": "python3"
  },
  "language_info": {
   "codemirror_mode": {
    "name": "ipython",
    "version": 3
   },
   "file_extension": ".py",
   "mimetype": "text/x-python",
   "name": "python",
   "nbconvert_exporter": "python",
   "pygments_lexer": "ipython3",
   "version": "3.11.5"
  }
 },
 "nbformat": 4,
 "nbformat_minor": 5
}
